{
 "cells": [
  {
   "cell_type": "markdown",
   "metadata": {},
   "source": [
    "# Automatic Patent Classification"
   ]
  },
  {
   "cell_type": "code",
   "execution_count": 8,
   "metadata": {},
   "outputs": [],
   "source": [
    "import os\n",
    "import numpy as np\n",
    "import pandas as pd\n",
    "import seaborn as sns\n",
    "import matplotlib.pyplot as plt\n",
    "from matplotlib.colors import ListedColormap\n",
    "plt.style.use(\"classic\")\n",
    "sns.set()\n",
    "from time import time"
   ]
  },
  {
   "cell_type": "markdown",
   "metadata": {},
   "source": [
    "## Pre-processing..."
   ]
  },
  {
   "cell_type": "markdown",
   "metadata": {},
   "source": [
    "### Importing data into pandas.DataFrame"
   ]
  },
  {
   "cell_type": "code",
   "execution_count": 30,
   "metadata": {},
   "outputs": [
    {
     "name": "stdout",
     "output_type": "stream",
     "text": [
      "Number of occurences on X:  347032\n",
      "Number of occurences on X:  347032\n",
      "Number of occurences on y:  347032\n"
     ]
    }
   ],
   "source": [
    "### Importing data into pandas.DataFrame\n",
    "# LOAD DATA DIRECTLY FROM .CSV INTO PYTHON_LIST()\n",
    "\n",
    "X_title, X_resume, y = [], [], []\n",
    "dataset = open('dataset_ipc_first.csv', 'r', encoding='latin-1')\n",
    "header = dataset.readline()\n",
    "if header[:-1] == 'title|resume|ipc':\n",
    "    for line in dataset:\n",
    "        line = line[:-1].split('|')\n",
    "        if line[2][0:1] in ['A', 'B', 'C', 'D', 'E', 'F', 'G', 'H']:\n",
    "            X_title.append(line[0])  # title\n",
    "            X_resume.append(line[1]) # resume\n",
    "            y.append(line[2][0:1])   # only first level IPC class (A..H)\n",
    "print('Number of occurences on X: ', len(X_title))\n",
    "print('Number of occurences on X: ', len(X_resume))\n",
    "print('Number of occurences on y: ', len(y))\n",
    "\n",
    "categories = pd.DataFrame(y, columns = ['ipc_level1'])\n",
    "\n",
    "## LOAD DATA USING PANDAS\n",
    "# corpora = pd.read_csv('dataset_ipc_first.csv', sep = '|', encoding = 'latin-1')\n",
    "# create ipc_level1 column with IPC first level category\n",
    "# categories = pd.DataFrame()\n",
    "# categories['ipc_level1'] = corpora.apply(lambda row: row['ipc'][0:1], axis=1)\n",
    "\n",
    "\n",
    "## REDUCE SAMPLE SIZE\n",
    "# # reducing number of rows to 5000\n",
    "# corpora = corpora[0:4999]\n",
    "# categories = categories[0:4999]"
   ]
  },
  {
   "cell_type": "markdown",
   "metadata": {},
   "source": [
    "### Analyzing data"
   ]
  },
  {
   "cell_type": "code",
   "execution_count": 31,
   "metadata": {},
   "outputs": [
    {
     "data": {
      "image/png": "[encoded data removed]",
      "text/plain": [
       "<matplotlib.figure.Figure at 0x7f1d108c4d68>"
      ]
     },
     "metadata": {},
     "output_type": "display_data"
    },
    {
     "name": "stdout",
     "output_type": "stream",
     "text": [
      "Total count of patent requests:  347032\n"
     ]
    }
   ],
   "source": [
    "### first look on data\n",
    "plt.figure(figsize=(12,6))\n",
    "ax = sns.countplot(x=\"ipc_level1\", data=categories)\n",
    "plt.ylabel('Patent requests', fontsize=12)\n",
    "plt.xlabel('First level IPC', fontsize=12)\n",
    "plt.xticks(rotation='horizontal')\n",
    "plt.show()\n",
    "print('Total count of patent requests: ', len(categories))"
   ]
  },
  {
   "cell_type": "markdown",
   "metadata": {},
   "source": [
    "## Extracting features..."
   ]
  },
  {
   "cell_type": "markdown",
   "metadata": {},
   "source": [
    "### Corpora vectorization"
   ]
  },
  {
   "cell_type": "code",
   "execution_count": 32,
   "metadata": {},
   "outputs": [
    {
     "name": "stdout",
     "output_type": "stream",
     "text": [
      "Extracting features...\n",
      "Title count matrix shape:  (347032, 64585)\n",
      "Resume count matrix shape:  (347032, 254990)\n",
      "done in 40.374s.\n"
     ]
    }
   ],
   "source": [
    "# Vectorization\n",
    "from time import time\n",
    "from sklearn.feature_extraction.text import CountVectorizer\n",
    "\n",
    "print('Extracting features...')\n",
    "vec = CountVectorizer(ngram_range = (1, 1), max_df = .95, min_df = 1)\n",
    "t0 = time()\n",
    "X_title_features = vec.fit_transform(X_title)\n",
    "print('Title count matrix shape: ', X_title_features.shape)\n",
    "X_resume_features = vec.fit_transform(X_resume)\n",
    "print('Resume count matrix shape: ', X_resume_features.shape)\n",
    "print('done in %0.3fs.' % (time() - t0))"
   ]
  },
  {
   "cell_type": "markdown",
   "metadata": {},
   "source": [
    "#### Reducing deminsionality"
   ]
  },
  {
   "cell_type": "code",
   "execution_count": 33,
   "metadata": {},
   "outputs": [
    {
     "name": "stdout",
     "output_type": "stream",
     "text": [
      "Reducing dimensionality...\n",
      "Title most relevant features matrix shape:  (347032, 500)\n",
      "Resume most relevant features matrix shape:  (347032, 500)\n",
      "done in 424.973s.\n"
     ]
    }
   ],
   "source": [
    "### Reducing deminsionality with SVD\n",
    "from sklearn.decomposition import TruncatedSVD\n",
    "\n",
    "print('Reducing dimensionality...')\n",
    "svd = TruncatedSVD(n_components = 500)\n",
    "t0 = time()\n",
    "X_title_svd = svd.fit_transform(X_title_features)\n",
    "print('Title most relevant features matrix shape: ', X_title_svd.shape)\n",
    "X_resume_svd = svd.fit_transform(X_resume_features)\n",
    "print('Resume most relevant features matrix shape: ', X_resume_svd.shape)\n",
    "print('done in %0.3fs.' % (time() - t0))"
   ]
  },
  {
   "cell_type": "markdown",
   "metadata": {},
   "source": [
    "### Categories binarizer"
   ]
  },
  {
   "cell_type": "code",
   "execution_count": 35,
   "metadata": {},
   "outputs": [
    {
     "name": "stdout",
     "output_type": "stream",
     "text": [
      "[[0 0 1 ..., 0 0 0]\n",
      " [0 0 1 ..., 0 0 0]\n",
      " [0 0 1 ..., 0 0 0]\n",
      " ..., \n",
      " [0 1 0 ..., 0 0 0]\n",
      " [1 0 0 ..., 0 0 0]\n",
      " [0 0 0 ..., 0 0 0]]\n"
     ]
    }
   ],
   "source": [
    "from sklearn.preprocessing import LabelBinarizer\n",
    "y_binarized = LabelBinarizer().fit_transform(y)\n",
    "print(y_binarized)"
   ]
  },
  {
   "cell_type": "code",
   "execution_count": null,
   "metadata": {},
   "outputs": [],
   "source": []
  }
 ],
 "metadata": {
  "kernelspec": {
   "display_name": "Python 3",
   "language": "python",
   "name": "python3"
  },
  "language_info": {
   "codemirror_mode": {
    "name": "ipython",
    "version": 3
   },
   "file_extension": ".py",
   "mimetype": "text/x-python",
   "name": "python",
   "nbconvert_exporter": "python",
   "pygments_lexer": "ipython3",
   "version": "3.5.2"
  }
 },
 "nbformat": 4,
 "nbformat_minor": 1
}
